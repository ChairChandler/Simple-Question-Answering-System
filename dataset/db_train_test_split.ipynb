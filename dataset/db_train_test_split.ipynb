{
 "cells": [
  {
   "cell_type": "code",
   "execution_count": 1,
   "metadata": {},
   "outputs": [],
   "source": [
    "INPUT_FILE = 'app.db'"
   ]
  },
  {
   "cell_type": "code",
   "execution_count": 2,
   "metadata": {},
   "outputs": [],
   "source": [
    "import sqlite3\n",
    "from pathlib import Path\n",
    "\n",
    "with sqlite3.connect(Path(INPUT_FILE)) as db:\n",
    "    db_cursor = db.cursor()\n",
    "    text_cursor = db_cursor.execute('SELECT id FROM import_text')\n",
    "    docs = text_cursor.fetchall()"
   ]
  },
  {
   "cell_type": "code",
   "execution_count": 3,
   "metadata": {},
   "outputs": [],
   "source": [
    "from sklearn.model_selection import train_test_split\n",
    "\n",
    "train, test = train_test_split(docs, train_size=0.7)"
   ]
  },
  {
   "cell_type": "markdown",
   "metadata": {},
   "source": [
    "Update training dataset"
   ]
  },
  {
   "cell_type": "code",
   "execution_count": 12,
   "metadata": {},
   "outputs": [],
   "source": [
    "from tqdm import tqdm\n",
    "\n",
    "def update_dataset(ids, table_name):\n",
    "\twith sqlite3.connect(Path(INPUT_FILE)) as db:\n",
    "\t\tdb_cursor = db.cursor()\n",
    "\t\t# first, remove question set\n",
    "\t\tdb_cursor.execute(f'DELETE FROM {table_name}')\n",
    "  \n",
    "\t\tfor doc_id in tqdm(ids):\n",
    "\t\t\tquestions_cursor = db_cursor.execute('SELECT id FROM import_questions WHERE import_text_id = ?', doc_id)\n",
    "\t\t\tdoc_questions_ids = questions_cursor.fetchall()\n",
    "\t\n",
    "\t\t\tdb_cursor.executemany(f'INSERT INTO {table_name} VALUES (?)', doc_questions_ids)\n",
    "   "
   ]
  },
  {
   "cell_type": "code",
   "execution_count": 13,
   "metadata": {},
   "outputs": [
    {
     "name": "stderr",
     "output_type": "stream",
     "text": [
      "100%|██████████| 13234/13234 [01:22<00:00, 160.68it/s]\n"
     ]
    }
   ],
   "source": [
    "update_dataset(train, 'train_dataset')"
   ]
  },
  {
   "cell_type": "markdown",
   "metadata": {},
   "source": [
    "Update testing dataset"
   ]
  },
  {
   "cell_type": "code",
   "execution_count": 14,
   "metadata": {},
   "outputs": [
    {
     "name": "stderr",
     "output_type": "stream",
     "text": [
      "100%|██████████| 5672/5672 [00:34<00:00, 164.44it/s]\n"
     ]
    }
   ],
   "source": [
    "update_dataset(test, 'test_dataset')"
   ]
  }
 ],
 "metadata": {
  "kernelspec": {
   "display_name": "global_venv",
   "language": "python",
   "name": "python3"
  },
  "language_info": {
   "codemirror_mode": {
    "name": "ipython",
    "version": 3
   },
   "file_extension": ".py",
   "mimetype": "text/x-python",
   "name": "python",
   "nbconvert_exporter": "python",
   "pygments_lexer": "ipython3",
   "version": "3.11.6"
  }
 },
 "nbformat": 4,
 "nbformat_minor": 2
}
