{
 "cells": [
  {
   "cell_type": "code",
   "execution_count": 1,
   "metadata": {},
   "outputs": [],
   "source": [
    "INPUT_FILE = 'app.db'"
   ]
  },
  {
   "cell_type": "markdown",
   "metadata": {},
   "source": [
    "Retrieve documents"
   ]
  },
  {
   "cell_type": "code",
   "execution_count": 38,
   "metadata": {},
   "outputs": [],
   "source": [
    "import sqlite3\n",
    "from pathlib import Path\n",
    "\n",
    "with sqlite3.connect(Path(INPUT_FILE)) as db:\n",
    "    db_cursor = db.cursor()\n",
    "    text_cursor = db_cursor.execute('SELECT id FROM import_text')\n",
    "    docs = text_cursor.fetchall()"
   ]
  },
  {
   "cell_type": "code",
   "execution_count": 39,
   "metadata": {},
   "outputs": [],
   "source": [
    "from sklearn.model_selection import train_test_split\n",
    "\n",
    "train, test = train_test_split(docs, train_size=0.7)"
   ]
  },
  {
   "cell_type": "markdown",
   "metadata": {},
   "source": [
    "Update training dataset"
   ]
  },
  {
   "cell_type": "code",
   "execution_count": 42,
   "metadata": {},
   "outputs": [],
   "source": [
    "def update_dataset(ids, table_name):\n",
    "\twith sqlite3.connect(Path(INPUT_FILE)) as db:\n",
    "\t\tdb_cursor = db.cursor()\n",
    "\t\tfor doc_id in ids:\n",
    "\t\t\tquestions_cursor = db_cursor.execute('SELECT id FROM import_questions WHERE import_text_id = ?', doc_id)\n",
    "\t\t\tdoc_questions_ids = questions_cursor.fetchall()\n",
    "\t\n",
    "\t\t\tdb_cursor.executemany(f'INSERT INTO {table_name} VALUES (?)', doc_questions_ids)"
   ]
  },
  {
   "cell_type": "code",
   "execution_count": 44,
   "metadata": {},
   "outputs": [],
   "source": [
    "update_dataset(train, 'train_dataset')"
   ]
  },
  {
   "cell_type": "markdown",
   "metadata": {},
   "source": [
    "Update testing dataset"
   ]
  },
  {
   "cell_type": "code",
   "execution_count": 45,
   "metadata": {},
   "outputs": [],
   "source": [
    "update_dataset(test, 'test_dataset')"
   ]
  }
 ],
 "metadata": {
  "kernelspec": {
   "display_name": "global_venv",
   "language": "python",
   "name": "python3"
  },
  "language_info": {
   "codemirror_mode": {
    "name": "ipython",
    "version": 3
   },
   "file_extension": ".py",
   "mimetype": "text/x-python",
   "name": "python",
   "nbconvert_exporter": "python",
   "pygments_lexer": "ipython3",
   "version": "3.11.6"
  }
 },
 "nbformat": 4,
 "nbformat_minor": 2
}
