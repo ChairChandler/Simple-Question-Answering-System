{
 "cells": [
  {
   "cell_type": "code",
   "execution_count": 48,
   "metadata": {},
   "outputs": [],
   "source": [
    "INPUT_FILE = 'dataset.json'\n",
    "OUTPUT_FILE = 'dataset_transformed.json'"
   ]
  },
  {
   "cell_type": "code",
   "execution_count": 43,
   "metadata": {},
   "outputs": [],
   "source": [
    "import json\n",
    "\n",
    "with open(INPUT_FILE) as file:\n",
    "    text = file.read(-1)\n",
    "    js = json.loads(text)"
   ]
  },
  {
   "cell_type": "code",
   "execution_count": 44,
   "metadata": {},
   "outputs": [],
   "source": [
    "for index, o in enumerate(js):\n",
    "    for index_q, q in enumerate(o['QUESTIONS']):\n",
    "        o['QUESTIONS'][index_q] = {'ID': index_q + 1, **q}\n",
    "    js[index] = {'ID': index + 1, **o}"
   ]
  },
  {
   "cell_type": "code",
   "execution_count": 50,
   "metadata": {},
   "outputs": [
    {
     "data": {
      "text/plain": [
       "{'ID': 3,\n",
       " 'URL': 'https://pl.wikipedia.org/wiki/Marie_Curie',\n",
       " 'TEXT': 'Maria Skłodowska-Curie (1867-1934) was a Polish physicist and chemist, twice winner of the Nobel Prize. In 1903 she received the Nobel Prize in physics for research on radioactivity, and in 1911 in chemistry for the discovery of polonium and radium ',\n",
       " 'QUESTIONS': [{'ID': 1,\n",
       "   'QUESTION': 'Who was Maria Skłodowska-Curie?',\n",
       "   'ANSWER': 'Maria Skłodowska-Curie was a Polish physicist and chemist.'},\n",
       "  {'ID': 2,\n",
       "   'QUESTION': 'When did Maria Skłodowska-Curie live?',\n",
       "   'ANSWER': 'Maria Skłodowska-Curie lived from 1867 to 1934.'},\n",
       "  {'ID': 3,\n",
       "   'QUESTION': 'How many times has Maria Skłodowska-Curie received the Nobel Prize?',\n",
       "   'ANSWER': 'Maria Skłodowska-Curie received the Nobel Prize twice.'},\n",
       "  {'ID': 4,\n",
       "   'QUESTION': 'For what did Maria Skłodowska-Curie receive the Nobel Prize in 1903?',\n",
       "   'ANSWER': 'Maria Skłodowska-Curie received the Nobel Prize in 1903 for her research on radioactivity in the field of physics.'},\n",
       "  {'ID': 5,\n",
       "   'QUESTION': 'In what fields of science did Maria Skłodowska-Curie win the Nobel Prize?',\n",
       "   'ANSWER': 'Maria Skłodowska-Curie won the Nobel Prize in Physics and Chemistry.'},\n",
       "  {'ID': 6,\n",
       "   'QUESTION': 'When did Maria Skłodowska-Curie receive the Nobel Prize in Chemistry?',\n",
       "   'ANSWER': 'Maria Skłodowska-Curie received the Nobel Prize in Chemistry in 1911.'},\n",
       "  {'ID': 7,\n",
       "   'QUESTION': 'Was Maria Skłodowska-Curie the first woman to receive the Nobel Prize?',\n",
       "   'ANSWER': 'Yes, Maria Skłodowska-Curie was the first woman to receive the Nobel Prize.'},\n",
       "  {'ID': 8,\n",
       "   'QUESTION': 'Was Maria Skłodowska-Curie the only person to win the Nobel Prize in two different fields of natural sciences?',\n",
       "   'ANSWER': 'Yes, Maria Skłodowska-Curie was the only person to win the Nobel Prize in two different fields of natural sciences.'},\n",
       "  {'ID': 9,\n",
       "   'QUESTION': 'What research did Maria Skłodowska-Curie conduct?',\n",
       "   'ANSWER': 'Maria Skłodowska-Curie conducted research on radioactivity.'},\n",
       "  {'ID': 10,\n",
       "   'QUESTION': 'Was Maria Skłodowska-Curie the only woman to receive the Nobel Prize?',\n",
       "   'ANSWER': 'No, Maria Skłodowska-Curie was the first woman to receive the Nobel Prize, but not the only one.'}]}"
      ]
     },
     "execution_count": 50,
     "metadata": {},
     "output_type": "execute_result"
    }
   ],
   "source": [
    "js[2]"
   ]
  },
  {
   "cell_type": "code",
   "execution_count": 51,
   "metadata": {},
   "outputs": [],
   "source": [
    "with open(OUTPUT_FILE, 'w') as file:\n",
    "    file.write(json.dumps(js, ensure_ascii=False))"
   ]
  }
 ],
 "metadata": {
  "kernelspec": {
   "display_name": "global_venv",
   "language": "python",
   "name": "python3"
  },
  "language_info": {
   "codemirror_mode": {
    "name": "ipython",
    "version": 3
   },
   "file_extension": ".py",
   "mimetype": "text/x-python",
   "name": "python",
   "nbconvert_exporter": "python",
   "pygments_lexer": "ipython3",
   "version": "3.11.6"
  }
 },
 "nbformat": 4,
 "nbformat_minor": 2
}
