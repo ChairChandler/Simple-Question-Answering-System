{
 "cells": [
  {
   "cell_type": "code",
   "execution_count": 39,
   "metadata": {},
   "outputs": [],
   "source": [
    "INPUT_FILE = 'raw/2/train-v1.1.json_transformed.json'\n",
    "DATABASE_FILE = 'app.db'"
   ]
  },
  {
   "cell_type": "markdown",
   "metadata": {},
   "source": [
    "Read json"
   ]
  },
  {
   "cell_type": "code",
   "execution_count": 40,
   "metadata": {},
   "outputs": [],
   "source": [
    "import json\n",
    "from pathlib import Path\n",
    "\n",
    "with open(Path(INPUT_FILE)) as file:\n",
    "    txt = file.read()\n",
    "    json_obj = json.loads(txt)"
   ]
  },
  {
   "cell_type": "markdown",
   "metadata": {},
   "source": [
    "Write raw JSON to the database"
   ]
  },
  {
   "cell_type": "code",
   "execution_count": 41,
   "metadata": {},
   "outputs": [],
   "source": [
    "from sqlite3 import connect\n",
    "\n",
    "raw_doc_id = None\n",
    "with connect(Path(DATABASE_FILE)) as db:\n",
    "    cursor = db.cursor()\n",
    "    cursor.execute('INSERT INTO main.import_raw(document) VALUES (?)', [txt])\n",
    "    raw_doc_id = cursor.lastrowid\n",
    "    db.commit()"
   ]
  },
  {
   "cell_type": "code",
   "execution_count": 42,
   "metadata": {},
   "outputs": [
    {
     "data": {
      "text/plain": [
       "1"
      ]
     },
     "execution_count": 42,
     "metadata": {},
     "output_type": "execute_result"
    }
   ],
   "source": [
    "raw_doc_id"
   ]
  },
  {
   "cell_type": "code",
   "execution_count": 43,
   "metadata": {},
   "outputs": [
    {
     "data": {
      "text/plain": [
       "18896"
      ]
     },
     "execution_count": 43,
     "metadata": {},
     "output_type": "execute_result"
    }
   ],
   "source": [
    "len([el['ID'] for el in json_obj])"
   ]
  },
  {
   "cell_type": "markdown",
   "metadata": {},
   "source": [
    "Write JSON text to the db"
   ]
  },
  {
   "cell_type": "code",
   "execution_count": 44,
   "metadata": {},
   "outputs": [],
   "source": [
    "texts_ids = {}\n",
    "with connect(Path(DATABASE_FILE)) as db:\n",
    "\tcursor = db.cursor()\n",
    "\tfor el in json_obj:\n",
    "\t\tvalues = (raw_doc_id, el['TEXT'])\n",
    "\t\tcursor.execute('INSERT INTO main.import_text(__import_raw__id, text) VALUES(?, ?)', values)\n",
    "\t\ttext_id = cursor.lastrowid\n",
    "\t\ttexts_ids[el['ID']] = text_id\n",
    "\tdb.commit()"
   ]
  },
  {
   "cell_type": "markdown",
   "metadata": {},
   "source": [
    "Write JSON questions to the db"
   ]
  },
  {
   "cell_type": "code",
   "execution_count": 47,
   "metadata": {},
   "outputs": [],
   "source": [
    "with connect(Path(DATABASE_FILE)) as db:\n",
    "\tcursor = db.cursor()\n",
    "\tfor el in json_obj:\n",
    "\t\ttext_id = texts_ids[el['ID']]\n",
    "\t\tfor q in el['QUESTIONS']:\n",
    "\t\t\tvalues = (text_id, q['QUESTION'], q['ANSWER'])\n",
    "\t\t\tcursor.execute('INSERT INTO main.import_questions(__import_text__id, question, answer) VALUES(?, ?, ?)', values)\n",
    "\tdb.commit()"
   ]
  }
 ],
 "metadata": {
  "kernelspec": {
   "display_name": "global_venv",
   "language": "python",
   "name": "python3"
  },
  "language_info": {
   "codemirror_mode": {
    "name": "ipython",
    "version": 3
   },
   "file_extension": ".py",
   "mimetype": "text/x-python",
   "name": "python",
   "nbconvert_exporter": "python",
   "pygments_lexer": "ipython3",
   "version": "3.11.6"
  }
 },
 "nbformat": 4,
 "nbformat_minor": 2
}
