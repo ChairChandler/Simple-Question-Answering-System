{
 "cells": [
  {
   "cell_type": "code",
   "execution_count": 1,
   "metadata": {},
   "outputs": [],
   "source": [
    "INPUT_FILE = 'dataset/app.db'"
   ]
  },
  {
   "cell_type": "markdown",
   "metadata": {},
   "source": [
    "Load training dataset"
   ]
  },
  {
   "cell_type": "code",
   "execution_count": 65,
   "metadata": {},
   "outputs": [],
   "source": [
    "from pathlib import Path\n",
    "import sqlite3\n",
    "import pandas as pd\n",
    "\n",
    "with sqlite3.connect(Path(INPUT_FILE)) as db:\n",
    "\tquestions_ids = pd.read_sql('SELECT * FROM train_dataset', db)\n",
    "\tquestions_ids = questions_ids['import_questions_id']\n",
    "\tquestions_ids = questions_ids.unique()\n",
    "\tquestions_ids = questions_ids.tolist()\n",
    " \n",
    "\tquery = f'SELECT * FROM import_questions WHERE id IN({str(questions_ids)[1:][:-1]})'\n",
    "\tquestions_txt = pd.read_sql(query, db)\n",
    " \n",
    "\ttext_ids = questions_txt['import_text_id']\n",
    "\ttext_ids = text_ids.unique()\n",
    "\ttext_ids = text_ids.tolist()\n",
    "\tquery = f'SELECT * FROM import_text WHERE id IN({str(text_ids)[1:][:-1]})'\n",
    "\ttext_txt = pd.read_sql(query, db)\n",
    " "
   ]
  },
  {
   "cell_type": "markdown",
   "metadata": {},
   "source": [
    "Table `import_questions`"
   ]
  },
  {
   "cell_type": "code",
   "execution_count": 67,
   "metadata": {},
   "outputs": [
    {
     "data": {
      "text/html": [
       "<div>\n",
       "<style scoped>\n",
       "    .dataframe tbody tr th:only-of-type {\n",
       "        vertical-align: middle;\n",
       "    }\n",
       "\n",
       "    .dataframe tbody tr th {\n",
       "        vertical-align: top;\n",
       "    }\n",
       "\n",
       "    .dataframe thead th {\n",
       "        text-align: right;\n",
       "    }\n",
       "</style>\n",
       "<table border=\"1\" class=\"dataframe\">\n",
       "  <thead>\n",
       "    <tr style=\"text-align: right;\">\n",
       "      <th></th>\n",
       "      <th>id</th>\n",
       "      <th>import_text_id</th>\n",
       "      <th>question</th>\n",
       "      <th>answer</th>\n",
       "    </tr>\n",
       "  </thead>\n",
       "  <tbody>\n",
       "    <tr>\n",
       "      <th>0</th>\n",
       "      <td>111</td>\n",
       "      <td>42</td>\n",
       "      <td>Who was Nicolaus Copernicus?</td>\n",
       "      <td>Nicholas Copernicus was a Polish astronomer, m...</td>\n",
       "    </tr>\n",
       "    <tr>\n",
       "      <th>1</th>\n",
       "      <td>112</td>\n",
       "      <td>42</td>\n",
       "      <td>In what years did Nicolaus Copernicus live?</td>\n",
       "      <td>Nicholas Copernicus lived in the years 1473-1543.</td>\n",
       "    </tr>\n",
       "    <tr>\n",
       "      <th>2</th>\n",
       "      <td>113</td>\n",
       "      <td>42</td>\n",
       "      <td>What theory did Nicolaus Copernicus develop?</td>\n",
       "      <td>Nicholas Copernicus developed a heliocentric t...</td>\n",
       "    </tr>\n",
       "    <tr>\n",
       "      <th>3</th>\n",
       "      <td>114</td>\n",
       "      <td>42</td>\n",
       "      <td>What is the most important work of Nicolaus Co...</td>\n",
       "      <td>The most important work of Nicolaus Copernicus...</td>\n",
       "    </tr>\n",
       "    <tr>\n",
       "      <th>4</th>\n",
       "      <td>115</td>\n",
       "      <td>42</td>\n",
       "      <td>When was 'De revolutionibus orbium coelestium'...</td>\n",
       "      <td>The work 'De revolutionibus orbium coelestium'...</td>\n",
       "    </tr>\n",
       "    <tr>\n",
       "      <th>...</th>\n",
       "      <td>...</td>\n",
       "      <td>...</td>\n",
       "      <td>...</td>\n",
       "      <td>...</td>\n",
       "    </tr>\n",
       "    <tr>\n",
       "      <th>64</th>\n",
       "      <td>196</td>\n",
       "      <td>50</td>\n",
       "      <td>Was Baroque a delicious style?</td>\n",
       "      <td>Yes, baroque was a delicious style.</td>\n",
       "    </tr>\n",
       "    <tr>\n",
       "      <th>65</th>\n",
       "      <td>197</td>\n",
       "      <td>50</td>\n",
       "      <td>Which centuries does the Baroque era cover?</td>\n",
       "      <td>The Baroque era covers the 16th, 17th and 18th...</td>\n",
       "    </tr>\n",
       "    <tr>\n",
       "      <th>66</th>\n",
       "      <td>198</td>\n",
       "      <td>50</td>\n",
       "      <td>Did baroque refer to counterweights and movement?</td>\n",
       "      <td>Yes, baroque referred to counterweights and mo...</td>\n",
       "    </tr>\n",
       "    <tr>\n",
       "      <th>67</th>\n",
       "      <td>199</td>\n",
       "      <td>50</td>\n",
       "      <td>Did Baroque influence architecture?</td>\n",
       "      <td>Yes, Baroque had a great influence on the deve...</td>\n",
       "    </tr>\n",
       "    <tr>\n",
       "      <th>68</th>\n",
       "      <td>200</td>\n",
       "      <td>50</td>\n",
       "      <td>Was baroque popular in Europe?</td>\n",
       "      <td>Yes, baroque was popular in Europe from the 16...</td>\n",
       "    </tr>\n",
       "  </tbody>\n",
       "</table>\n",
       "<p>69 rows × 4 columns</p>\n",
       "</div>"
      ],
      "text/plain": [
       "     id  import_text_id                                           question  \\\n",
       "0   111              42                       Who was Nicolaus Copernicus?   \n",
       "1   112              42        In what years did Nicolaus Copernicus live?   \n",
       "2   113              42       What theory did Nicolaus Copernicus develop?   \n",
       "3   114              42  What is the most important work of Nicolaus Co...   \n",
       "4   115              42  When was 'De revolutionibus orbium coelestium'...   \n",
       "..  ...             ...                                                ...   \n",
       "64  196              50                     Was Baroque a delicious style?   \n",
       "65  197              50        Which centuries does the Baroque era cover?   \n",
       "66  198              50  Did baroque refer to counterweights and movement?   \n",
       "67  199              50                Did Baroque influence architecture?   \n",
       "68  200              50                     Was baroque popular in Europe?   \n",
       "\n",
       "                                               answer  \n",
       "0   Nicholas Copernicus was a Polish astronomer, m...  \n",
       "1   Nicholas Copernicus lived in the years 1473-1543.  \n",
       "2   Nicholas Copernicus developed a heliocentric t...  \n",
       "3   The most important work of Nicolaus Copernicus...  \n",
       "4   The work 'De revolutionibus orbium coelestium'...  \n",
       "..                                                ...  \n",
       "64                Yes, baroque was a delicious style.  \n",
       "65  The Baroque era covers the 16th, 17th and 18th...  \n",
       "66  Yes, baroque referred to counterweights and mo...  \n",
       "67  Yes, Baroque had a great influence on the deve...  \n",
       "68  Yes, baroque was popular in Europe from the 16...  \n",
       "\n",
       "[69 rows x 4 columns]"
      ]
     },
     "execution_count": 67,
     "metadata": {},
     "output_type": "execute_result"
    }
   ],
   "source": [
    "questions_txt"
   ]
  },
  {
   "cell_type": "markdown",
   "metadata": {},
   "source": [
    "Table `import_text_id`"
   ]
  },
  {
   "cell_type": "code",
   "execution_count": 68,
   "metadata": {},
   "outputs": [
    {
     "data": {
      "text/html": [
       "<div>\n",
       "<style scoped>\n",
       "    .dataframe tbody tr th:only-of-type {\n",
       "        vertical-align: middle;\n",
       "    }\n",
       "\n",
       "    .dataframe tbody tr th {\n",
       "        vertical-align: top;\n",
       "    }\n",
       "\n",
       "    .dataframe thead th {\n",
       "        text-align: right;\n",
       "    }\n",
       "</style>\n",
       "<table border=\"1\" class=\"dataframe\">\n",
       "  <thead>\n",
       "    <tr style=\"text-align: right;\">\n",
       "      <th></th>\n",
       "      <th>id</th>\n",
       "      <th>import_raw_id</th>\n",
       "      <th>text</th>\n",
       "    </tr>\n",
       "  </thead>\n",
       "  <tbody>\n",
       "    <tr>\n",
       "      <th>0</th>\n",
       "      <td>42</td>\n",
       "      <td>1</td>\n",
       "      <td>Nicholas Copernicus (1473-1543) was a Polish a...</td>\n",
       "    </tr>\n",
       "    <tr>\n",
       "      <th>1</th>\n",
       "      <td>43</td>\n",
       "      <td>1</td>\n",
       "      <td>Maria Skłodowska-Curie (1867-1934) was a Polis...</td>\n",
       "    </tr>\n",
       "    <tr>\n",
       "      <th>2</th>\n",
       "      <td>44</td>\n",
       "      <td>1</td>\n",
       "      <td>The Great Wall of China is a system of defensi...</td>\n",
       "    </tr>\n",
       "    <tr>\n",
       "      <th>3</th>\n",
       "      <td>45</td>\n",
       "      <td>1</td>\n",
       "      <td>Gothic architecture, which developed in Europe...</td>\n",
       "    </tr>\n",
       "    <tr>\n",
       "      <th>4</th>\n",
       "      <td>46</td>\n",
       "      <td>1</td>\n",
       "      <td>The French Revolution (1789-1799) was a period...</td>\n",
       "    </tr>\n",
       "    <tr>\n",
       "      <th>5</th>\n",
       "      <td>48</td>\n",
       "      <td>1</td>\n",
       "      <td>Leonardo da Vinci was an Italian Renaissance a...</td>\n",
       "    </tr>\n",
       "    <tr>\n",
       "      <th>6</th>\n",
       "      <td>50</td>\n",
       "      <td>1</td>\n",
       "      <td>Baroque is an era in the history of art that p...</td>\n",
       "    </tr>\n",
       "  </tbody>\n",
       "</table>\n",
       "</div>"
      ],
      "text/plain": [
       "   id  import_raw_id                                               text\n",
       "0  42              1  Nicholas Copernicus (1473-1543) was a Polish a...\n",
       "1  43              1  Maria Skłodowska-Curie (1867-1934) was a Polis...\n",
       "2  44              1  The Great Wall of China is a system of defensi...\n",
       "3  45              1  Gothic architecture, which developed in Europe...\n",
       "4  46              1  The French Revolution (1789-1799) was a period...\n",
       "5  48              1  Leonardo da Vinci was an Italian Renaissance a...\n",
       "6  50              1  Baroque is an era in the history of art that p..."
      ]
     },
     "execution_count": 68,
     "metadata": {},
     "output_type": "execute_result"
    }
   ],
   "source": [
    "text_txt"
   ]
  },
  {
   "cell_type": "markdown",
   "metadata": {},
   "source": [
    "Prepare the model"
   ]
  },
  {
   "cell_type": "code",
   "execution_count": 258,
   "metadata": {},
   "outputs": [
    {
     "name": "stderr",
     "output_type": "stream",
     "text": [
      "Some weights of GPT2ForTokenClassification were not initialized from the model checkpoint at openai-community/gpt2 and are newly initialized: ['classifier.bias', 'classifier.weight']\n",
      "You should probably TRAIN this model on a down-stream task to be able to use it for predictions and inference.\n"
     ]
    }
   ],
   "source": [
    "from transformers import GPT2ForTokenClassification, GPT2TokenizerFast\n",
    "\n",
    "model_name = 'openai-community/gpt2'\n",
    "tokenizer = GPT2TokenizerFast.from_pretrained(model_name)\n",
    "model = GPT2ForTokenClassification.from_pretrained(model_name)"
   ]
  },
  {
   "cell_type": "code",
   "execution_count": 259,
   "metadata": {},
   "outputs": [
    {
     "data": {
      "text/plain": [
       "Embedding(50258, 768)"
      ]
     },
     "execution_count": 259,
     "metadata": {},
     "output_type": "execute_result"
    }
   ],
   "source": [
    "tokenizer.add_special_tokens({'pad_token': '[PAD]'})\n",
    "model.resize_token_embeddings(len(tokenizer))"
   ]
  },
  {
   "cell_type": "markdown",
   "metadata": {},
   "source": [
    "Prepare dataset class"
   ]
  },
  {
   "cell_type": "code",
   "execution_count": 260,
   "metadata": {},
   "outputs": [],
   "source": [
    "from torch.utils.data import Dataset\n",
    "\n",
    "class QADataset(Dataset):\n",
    "\tdef __init__(self, text: pd.DataFrame, questions: pd.DataFrame):\n",
    "\t\tsuper().__init__()\n",
    "\t\tself.text = text\n",
    "\t\tself.questions = questions\n",
    "  \n",
    "\tdef __len__(self):\n",
    "\t\treturn len(self.questions)\n",
    "  \n",
    "\tdef __getitem__(self, indx, process=True):\n",
    "\t\t# default Dataset.__iter__ is not implemented\n",
    "\t\tif indx >= len(self):\n",
    "\t\t\traise IndexError\n",
    "     \n",
    "\t\tcols = ['import_text_id', 'question', 'answer']\n",
    "\t\ttxt_id, question, answer = self.questions.loc[indx, cols]\n",
    "\t\ttxt = self.text.loc[self.text['id'] == txt_id, 'text']\n",
    "\t\ttxt = txt.item()\n",
    "  \n",
    "\t\tif process:\n",
    "\t\t\tdata = self.process(txt, question, answer)\n",
    "\t\t\treturn data\n",
    "\n",
    "\t\treturn txt, question, answer\n",
    "\n",
    "\tdef process(self, txt, question, answer):\n",
    "\t\tinput_format = f'''\n",
    "\t\t[CONTEXT] {txt}\n",
    "\n",
    "\t\t[QUESTION] {question}\n",
    "\t\t'''\n",
    "\n",
    "\t\toutput_format = f'[ANSWER] {answer}'\n",
    "\n",
    "\t\tprocessed_input = tokenizer(\n",
    "\t\t\tinput_format, \n",
    "   \t\t\treturn_tensors='pt', \n",
    "      \t\tpadding='max_length', \n",
    "            truncation=True\n",
    "        )\n",
    "\t\tprocessed_output = tokenizer(\n",
    "      \t\toutput_format, \n",
    "        \treturn_tensors='pt',\n",
    "            padding='max_length', \n",
    "            truncation=True\n",
    "    \t)\n",
    "  \n",
    "\t\tprocessed_input['labels'] = processed_output['input_ids']\n",
    "\t\treturn processed_input"
   ]
  },
  {
   "cell_type": "code",
   "execution_count": 261,
   "metadata": {},
   "outputs": [
    {
     "data": {
      "text/plain": [
       "{'input_ids': tensor([[  198,   197,   197,  ..., 50257, 50257, 50257]]), 'attention_mask': tensor([[1, 1, 1,  ..., 0, 0, 0]]), 'labels': tensor([[   58, 15037, 45532,  ..., 50257, 50257, 50257]])}"
      ]
     },
     "execution_count": 261,
     "metadata": {},
     "output_type": "execute_result"
    }
   ],
   "source": [
    "dataset = QADataset(text_txt, questions_txt)\n",
    "dataset[0]"
   ]
  },
  {
   "cell_type": "markdown",
   "metadata": {},
   "source": [
    "Training phase"
   ]
  },
  {
   "cell_type": "code",
   "execution_count": 262,
   "metadata": {},
   "outputs": [],
   "source": [
    "from transformers import Trainer, TrainingArguments\n",
    "\n",
    "args = TrainingArguments(\n",
    "\toutput_dir='training_out',\n",
    "\toverwrite_output_dir=True, \n",
    "\tdo_train=True,\n",
    "\tnum_train_epochs=10,\n",
    "\tlogging_first_step=True,\n",
    "\tlogging_steps=10,\n",
    "\tsave_total_limit=5,\n",
    "\tfp16=True\n",
    ")\n",
    "trainer = Trainer(\n",
    "\tmodel=model, \n",
    "\targs=args, \n",
    "\ttrain_dataset=dataset,\n",
    "\ttokenizer=tokenizer\n",
    ")"
   ]
  },
  {
   "cell_type": "code",
   "execution_count": 263,
   "metadata": {},
   "outputs": [
    {
     "data": {
      "application/vnd.jupyter.widget-view+json": {
       "model_id": "8c3ef4ffb0ed47fa8d2cb35a02740617",
       "version_major": 2,
       "version_minor": 0
      },
      "text/plain": [
       "  0%|          | 0/90 [00:00<?, ?it/s]"
      ]
     },
     "metadata": {},
     "output_type": "display_data"
    },
    {
     "ename": "",
     "evalue": "",
     "output_type": "error",
     "traceback": [
      "\u001b[1;31mThe Kernel crashed while executing code in the current cell or a previous cell. \n",
      "\u001b[1;31mPlease review the code in the cell(s) to identify a possible cause of the failure. \n",
      "\u001b[1;31mClick <a href='https://aka.ms/vscodeJupyterKernelCrash'>here</a> for more info. \n",
      "\u001b[1;31mView Jupyter <a href='command:jupyter.viewOutput'>log</a> for further details."
     ]
    }
   ],
   "source": [
    "trainer.train()"
   ]
  },
  {
   "cell_type": "markdown",
   "metadata": {},
   "source": [
    "Save the model"
   ]
  },
  {
   "cell_type": "code",
   "execution_count": null,
   "metadata": {},
   "outputs": [],
   "source": [
    "trainer.save_model('model')"
   ]
  }
 ],
 "metadata": {
  "kernelspec": {
   "display_name": "global_venv",
   "language": "python",
   "name": "python3"
  },
  "language_info": {
   "codemirror_mode": {
    "name": "ipython",
    "version": 3
   },
   "file_extension": ".py",
   "mimetype": "text/x-python",
   "name": "python",
   "nbconvert_exporter": "python",
   "pygments_lexer": "ipython3",
   "version": "3.11.6"
  }
 },
 "nbformat": 4,
 "nbformat_minor": 2
}
